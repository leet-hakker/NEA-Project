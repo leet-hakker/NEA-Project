{
 "cells": [
  {
   "cell_type": "code",
   "execution_count": 24,
   "id": "b6914863",
   "metadata": {},
   "outputs": [],
   "source": [
    "from fractions import Fraction\n",
    "from src.python_prototyping.M import M as BigM"
   ]
  },
  {
   "cell_type": "code",
   "execution_count": 8,
   "id": "621c8516",
   "metadata": {},
   "outputs": [],
   "source": [
    "def string_to_bigm_parts(string: str) -> (str, str):\n",
    "    num_part = \"\"\n",
    "    m_part = \"\"\n",
    "    temp = \"\"\n",
    "    # Iterate through the string, checking each character\n",
    "    for char_index in range(len(string)):\n",
    "        if string[char_index] in (\"-\", \"+\"):\n",
    "            # If the character occurs past the start\n",
    "            # of the string, this means we can move to\n",
    "            # the m part of the number\n",
    "            if char_index > 0:\n",
    "                num_part = temp\n",
    "                temp = string[char_index]\n",
    "            else:\n",
    "                temp += string[char_index]\n",
    "        else:\n",
    "            temp += string[char_index]\n",
    "\n",
    "    # If num_part has data, then whatever is in\n",
    "    # `temp` must be the m part\n",
    "    if num_part:\n",
    "        m_part = temp\n",
    "    # Otherwise, whatever is in temp can be moved\n",
    "    # into num_part\n",
    "    else:\n",
    "        num_part = temp\n",
    "    \n",
    "    # num_part may contain an M value\n",
    "    # (e.g. if the string is \"4M\")\n",
    "    # so correct that\n",
    "    if \"M\" in num_part:\n",
    "        num_part, m_part = \"\", num_part\n",
    "    \n",
    "    return (num_part, m_part)\n",
    "\n",
    "def string_to_fraction(string: str) -> Fraction:\n",
    "    # Important special cases\n",
    "    if string == \"-\":\n",
    "        string = \"-1\"\n",
    "    if string == \"+\":\n",
    "        string = \"1\"\n",
    "    if string == \"\":\n",
    "        string = \"1\"\n",
    "        \n",
    "    # Split the fraction into its components\n",
    "    result = string.split('/')\n",
    "    # This case is when the string actually\n",
    "    # contained a '/'\n",
    "    if len(result) > 1:\n",
    "        return Fraction(int(result[0]), int(result[1]))\n",
    "    \n",
    "    # If there was no '/' then it is an integer\n",
    "    # and the denominator is one\n",
    "    return Fraction(int(result[0]), 1)\n",
    "\n",
    "def string_to_bigm(string: str) -> BigM:\n",
    "    parts = string_to_bigm_parts(string)\n",
    "    \n",
    "    # Initial values for each part, as they\n",
    "    # may not get set, which corresponds to\n",
    "    # them being zero\n",
    "    num = Fraction(0, 1)\n",
    "    m_part = Fraction(0, 1)\n",
    "\n",
    "    if parts[0]:\n",
    "        num = string_to_fraction(parts[0])\n",
    "    if parts[1]:\n",
    "        m_part = string_to_fraction(parts[1].replace('M', ''))\n",
    "    \n",
    "    return BigM(num, m_part)\n",
    "        "
   ]
  },
  {
   "cell_type": "code",
   "execution_count": 10,
   "id": "3dcd4cdf",
   "metadata": {},
   "outputs": [],
   "source": [
    "valid_checks = ['1/2','1/2+2/3M','1/2-2/3M','+2/3M','-2/3M','1/2+M','1/2-M','M','-M']\n",
    "invalid_checks = ['1//', '/', '1/2/', '1+-', '1+M+', '1+M1', '1/2+1/2+']"
   ]
  },
  {
   "cell_type": "code",
   "execution_count": 10,
   "id": "ea7c5ebe",
   "metadata": {},
   "outputs": [
    {
     "name": "stdout",
     "output_type": "stream",
     "text": [
      "1/2\n",
      "(1/2 + 2/3M)\n",
      "(1/2 - 2/3M)\n",
      "(0 + 2/3M)\n",
      "(0 - 2/3M)\n",
      "(1/2 + 1M)\n",
      "(1/2 - 1M)\n",
      "(0 + 1M)\n",
      "(0 - 1M)\n",
      "(-1 - 1M)\n"
     ]
    }
   ],
   "source": [
    "for check in checks:\n",
    "    print(string_to_bigm(check))"
   ]
  },
  {
   "cell_type": "code",
   "execution_count": 35,
   "id": "9b59ca7f",
   "metadata": {},
   "outputs": [],
   "source": [
    "def validate_input(current_string: str, char: str) -> bool:\n",
    "    # Always allow input if the string is empty\n",
    "    if not len(current_string):\n",
    "        return char != '/'\n",
    "    \n",
    "    # 'M' is only ever allowed to be the final\n",
    "    # character, so nothing may come after\n",
    "    if current_string[-1] == 'M':\n",
    "        return False\n",
    "    \n",
    "    # If the current string is only a number\n",
    "    # then any characters that are available\n",
    "    # to the user to input are valid.\n",
    "    if current_string[-1].isnumeric():\n",
    "        # If the user is trying to add '/'\n",
    "        # to the end of the string, then\n",
    "        # it needs to be ensured that they\n",
    "        # are not at the denominator of a fraction\n",
    "        # already.\n",
    "        if char == '/':\n",
    "            # If the last chunk contains a '/' then\n",
    "            # it is a complete fraction, so return\n",
    "            # False\n",
    "            if '/' in current_string.replace('-', '+').split('+')[-1]:\n",
    "                return False\n",
    "        \n",
    "        # If there are more than one chunks (i.e. two)\n",
    "        # then the user may not add any more,\n",
    "        # so if the user wants to enter '+' or '-'\n",
    "        # then return False\n",
    "        if len(current_string.replace('-', '+').split('+')) > 1:\n",
    "            if char in ('+', '-'):\n",
    "                return False\n",
    "        return True\n",
    "    \n",
    "    # If the last character the user typed\n",
    "    # is '/', then the only valid input now\n",
    "    # must be to write a denominator\n",
    "    if current_string[-1] == '/':\n",
    "        return char.isnumeric()\n",
    "    \n",
    "    if current_string[-1] in ('+', '-'):\n",
    "        return char.isnumeric() or char == 'M'\n",
    "        \n",
    "    \n",
    "    return False"
   ]
  },
  {
   "cell_type": "code",
   "execution_count": 36,
   "id": "29023ce6",
   "metadata": {},
   "outputs": [],
   "source": [
    "for check in valid_checks:\n",
    "    current_str = \"\"\n",
    "    for char in check:\n",
    "        if not validate_input(current_str, char):\n",
    "            print(current_str, char)\n",
    "        current_str += char\n",
    "\n",
    "for check in invalid_checks:\n",
    "    if validate_input(check[:-1], check[-1]):\n",
    "        print(check)"
   ]
  },
  {
   "cell_type": "code",
   "execution_count": 17,
   "id": "5437834d",
   "metadata": {},
   "outputs": [
    {
     "data": {
      "text/plain": [
       "'1/2'"
      ]
     },
     "execution_count": 17,
     "metadata": {},
     "output_type": "execute_result"
    }
   ],
   "source": [
    "invalid_checks[2][:-1]"
   ]
  },
  {
   "cell_type": "code",
   "execution_count": null,
   "id": "26e7f89d",
   "metadata": {},
   "outputs": [],
   "source": []
  }
 ],
 "metadata": {
  "kernelspec": {
   "display_name": "Python 3 (ipykernel)",
   "language": "python",
   "name": "python3"
  },
  "language_info": {
   "codemirror_mode": {
    "name": "ipython",
    "version": 3
   },
   "file_extension": ".py",
   "mimetype": "text/x-python",
   "name": "python",
   "nbconvert_exporter": "python",
   "pygments_lexer": "ipython3",
   "version": "3.10.7"
  },
  "vscode": {
   "interpreter": {
    "hash": "aabf2c0c2769772afd38eea14c5b74fded6169e67fcd617367ab9d24867fd206"
   }
  }
 },
 "nbformat": 4,
 "nbformat_minor": 5
}
